{
 "cells": [
  {
   "cell_type": "code",
   "execution_count": 1,
   "id": "initial_id",
   "metadata": {
    "collapsed": true,
    "ExecuteTime": {
     "end_time": "2024-07-18T06:55:32.871948800Z",
     "start_time": "2024-07-18T06:55:32.226924300Z"
    }
   },
   "outputs": [],
   "source": [
    "import numpy as np"
   ]
  },
  {
   "cell_type": "markdown",
   "source": [
    "解析解  $ \\hat{w}_{Ridge}=(X^TX+\\lambda I)^{-1}X^TY $"
   ],
   "metadata": {
    "collapsed": false
   },
   "id": "94de6181377ae9e0"
  },
  {
   "cell_type": "code",
   "execution_count": 13,
   "outputs": [],
   "source": [
    "\n",
    "\n",
    "def ridge_regression(X, Y, alpha):\n",
    "    \"\"\"\n",
    "    参数:\n",
    "    X -- 自变量数据矩阵\n",
    "    Y -- 因变量数据矩阵\n",
    "    alpha -- lamda 参数\n",
    "\n",
    "    返回:\n",
    "    W -- 岭回归系数\n",
    "    \"\"\"\n",
    "    \n",
    "    ### 代码开始 ### (≈ 3 行代码)\n",
    "    XTX = X.T * X\n",
    "    reg = XTX + alpha * np.eye(np.shape(X)[1])\n",
    "    W = reg.I  * (X.T * Y) \n",
    "    ### 代码结束 ###\n",
    "    \n",
    "    return W"
   ],
   "metadata": {
    "collapsed": false,
    "ExecuteTime": {
     "end_time": "2024-07-18T07:24:27.113675900Z",
     "start_time": "2024-07-18T07:24:27.071658600Z"
    }
   },
   "id": "a2274fc0acf2d6d4"
  },
  {
   "cell_type": "code",
   "execution_count": 14,
   "outputs": [],
   "source": [
    "np.random.seed(10) # 设置随机数种子\n",
    "#  matrix 与 ndarray\n",
    "X = np.matrix(np.random.randint(5, size=(10, 10)))\n",
    "Y = np.matrix(np.random.randint(10, size=(10,1 )))\n",
    "alpha = 0.5"
   ],
   "metadata": {
    "collapsed": false,
    "ExecuteTime": {
     "end_time": "2024-07-18T07:24:27.814560600Z",
     "start_time": "2024-07-18T07:24:27.801588900Z"
    }
   },
   "id": "b00106f7b49de2e2"
  },
  {
   "cell_type": "code",
   "execution_count": 15,
   "outputs": [
    {
     "data": {
      "text/plain": "matrix([[ 1.42278923,  2.20583559, -0.6391644 ,  0.64022529, -0.44014758,\n          1.66307858, -0.83879894, -0.25611354, -0.06951638, -2.56882017]])"
     },
     "execution_count": 15,
     "metadata": {},
     "output_type": "execute_result"
    }
   ],
   "source": [
    "ridge_regression(X, Y, alpha).T\n"
   ],
   "metadata": {
    "collapsed": false,
    "ExecuteTime": {
     "end_time": "2024-07-18T07:24:28.383811800Z",
     "start_time": "2024-07-18T07:24:28.354841500Z"
    }
   },
   "id": "733a77b9070c3c7"
  },
  {
   "cell_type": "code",
   "execution_count": 21,
   "outputs": [],
   "source": [],
   "metadata": {
    "collapsed": false,
    "ExecuteTime": {
     "end_time": "2024-07-18T07:34:31.780306100Z",
     "start_time": "2024-07-18T07:34:31.747247Z"
    }
   },
   "id": "8d004079adddb543"
  },
  {
   "cell_type": "code",
   "execution_count": 29,
   "outputs": [],
   "source": [
    "from sklearn.linear_model import Ridge\n",
    "\n",
    "def ridge_model(X, Y, alpha):\n",
    "    \"\"\"\n",
    "    参数:\n",
    "    X -- 自变量数据矩阵\n",
    "    Y -- 因变量数据矩阵\n",
    "    alpha -- lamda 参数\n",
    "\n",
    "    返回:\n",
    "    W -- 岭回归系数\n",
    "    \"\"\"\n",
    "    \n",
    "    ### 代码开始 ### (≈ 3 行代码)\n",
    "    model = Ridge(alpha, fit_intercept=False)\n",
    "    model.fit(X.getA(),Y.getA())\n",
    "    W = model.coef_\n",
    "    ### 代码结束 ###\n",
    "    \n",
    "    return W"
   ],
   "metadata": {
    "collapsed": false,
    "ExecuteTime": {
     "end_time": "2024-07-18T07:44:52.105906900Z",
     "start_time": "2024-07-18T07:44:52.064822900Z"
    }
   },
   "id": "d394e8f5a1134da5"
  },
  {
   "cell_type": "code",
   "execution_count": 30,
   "outputs": [
    {
     "data": {
      "text/plain": "array([[ 1.42278923,  2.20583559, -0.6391644 ,  0.64022529, -0.44014758,\n         1.66307858, -0.83879894, -0.25611354, -0.06951638, -2.56882017]])"
     },
     "execution_count": 30,
     "metadata": {},
     "output_type": "execute_result"
    }
   ],
   "source": [
    "ridge_model(X, Y, alpha)\n"
   ],
   "metadata": {
    "collapsed": false,
    "ExecuteTime": {
     "end_time": "2024-07-18T07:44:52.313019Z",
     "start_time": "2024-07-18T07:44:52.273705Z"
    }
   },
   "id": "359403bd97c590f2"
  },
  {
   "cell_type": "code",
   "execution_count": null,
   "outputs": [],
   "source": [],
   "metadata": {
    "collapsed": false
   },
   "id": "87d46d40a63f696f"
  }
 ],
 "metadata": {
  "kernelspec": {
   "display_name": "Python 3",
   "language": "python",
   "name": "python3"
  },
  "language_info": {
   "codemirror_mode": {
    "name": "ipython",
    "version": 2
   },
   "file_extension": ".py",
   "mimetype": "text/x-python",
   "name": "python",
   "nbconvert_exporter": "python",
   "pygments_lexer": "ipython2",
   "version": "2.7.6"
  }
 },
 "nbformat": 4,
 "nbformat_minor": 5
}
