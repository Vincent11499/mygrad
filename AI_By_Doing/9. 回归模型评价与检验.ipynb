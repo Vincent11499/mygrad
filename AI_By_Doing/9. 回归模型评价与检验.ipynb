{
 "cells": [
  {
   "cell_type": "markdown",
   "id": "15bb13d95e658f42",
   "metadata": {
    "collapsed": false
   },
   "source": [
    "对于回归分析的结果，往往还需要经历一个流程，那就是：假设检验\n"
   ]
  },
  {
   "cell_type": "raw",
   "id": "9f75819ccbb7df17",
   "metadata": {
    "collapsed": false
   },
   "source": [
    "单次抽样后，参数的估计值与真实值差异是否显著，就需要进行 统计检验\n",
    "在一元线性回归模型中，一般需要：拟合优度检验、变量的显著性检验及参数的区间估计。\n",
    "在多元线性回归模型中，往往会有：拟合优度检验、变量的显著性检验（T 检验）、方程的显著性检验（F 检验）及参数的置信区间。 其中，一元线性回归中的 T 检验和 F 检验一致"
   ]
  },
  {
   "cell_type": "code",
   "execution_count": 5,
   "id": "9867a275bb508be8",
   "metadata": {
    "ExecuteTime": {
     "end_time": "2024-07-18T09:00:40.681096400Z",
     "start_time": "2024-07-18T09:00:39.452159200Z"
    },
    "collapsed": false
   },
   "outputs": [],
   "source": [
    "import numpy as np\n",
    "from matplotlib import pyplot as plt\n",
    "\n",
    "%matplotlib inline"
   ]
  },
  {
   "cell_type": "code",
   "execution_count": 6,
   "id": "991e8375d33b1e0a",
   "metadata": {
    "ExecuteTime": {
     "end_time": "2024-07-18T09:00:40.681096400Z",
     "start_time": "2024-07-18T09:00:40.681096400Z"
    },
    "collapsed": false
   },
   "outputs": [],
   "source": [
    "\n",
    "\n",
    "# 生成 2 组 x 相同的示例数据\n",
    "x = np.array([4, 8, 12, 25, 32, 43, 58, 63, 69, 79]).reshape(-1, 1)\n",
    "y1 = np.array([9, 17, 23, 51, 62, 83, 115, 125, 137, 159]).reshape(-1, 1)\n",
    "y2 = np.array([20, 33, 50, 56, 42, 31, 33, 46, 65, 75]).reshape(-1, 1)"
   ]
  },
  {
   "cell_type": "code",
   "execution_count": 7,
   "id": "2a7316a02585e91e",
   "metadata": {
    "ExecuteTime": {
     "end_time": "2024-07-18T09:00:40.697114100Z",
     "start_time": "2024-07-18T09:00:40.681096400Z"
    },
    "collapsed": false
   },
   "outputs": [
    {
     "data": {
      "text/plain": [
       "((10, 1), (10, 1), (10, 1))"
      ]
     },
     "execution_count": 7,
     "metadata": {},
     "output_type": "execute_result"
    }
   ],
   "source": [
    "x.shape,y1.shape,y2.shape,"
   ]
  },
  {
   "cell_type": "code",
   "execution_count": 8,
   "id": "990889bce7ccf7d3",
   "metadata": {
    "ExecuteTime": {
     "end_time": "2024-07-18T09:00:41.440337600Z",
     "start_time": "2024-07-18T09:00:41.012330100Z"
    },
    "collapsed": false
   },
   "outputs": [
    {
     "data": {
      "text/plain": [
       "<matplotlib.collections.PathCollection at 0x1554cc192a0>"
      ]
     },
     "execution_count": 8,
     "metadata": {},
     "output_type": "execute_result"
    },
    {
     "data": {
      "image/png": "[encoded data removed]",
      "text/plain": [
       "<Figure size 1200x400 with 2 Axes>"
      ]
     },
     "metadata": {},
     "output_type": "display_data"
    }
   ],
   "source": [
    "\n",
    "\n",
    "# 两组数据分别绘制子图\n",
    "fig, axes = plt.subplots(1, 2, figsize=(12, 4))\n",
    "axes[0].scatter(x, y1)\n",
    "axes[1].scatter(x, y2)"
   ]
  },
  {
   "cell_type": "code",
   "execution_count": 9,
   "id": "aee23b895cdfed0c",
   "metadata": {
    "ExecuteTime": {
     "end_time": "2024-07-18T09:24:25.624140600Z",
     "start_time": "2024-07-18T09:24:21.675153900Z"
    },
    "collapsed": false
   },
   "outputs": [
    {
     "data": {
      "text/html": [
       "<style>#sk-container-id-1 {\n",
       "  /* Definition of color scheme common for light and dark mode */\n",
       "  --sklearn-color-text: black;\n",
       "  --sklearn-color-line: gray;\n",
       "  /* Definition of color scheme for unfitted estimators */\n",
       "  --sklearn-color-unfitted-level-0: #fff5e6;\n",
       "  --sklearn-color-unfitted-level-1: #f6e4d2;\n",
       "  --sklearn-color-unfitted-level-2: #ffe0b3;\n",
       "  --sklearn-color-unfitted-level-3: chocolate;\n",
       "  /* Definition of color scheme for fitted estimators */\n",
       "  --sklearn-color-fitted-level-0: #f0f8ff;\n",
       "  --sklearn-color-fitted-level-1: #d4ebff;\n",
       "  --sklearn-color-fitted-level-2: #b3dbfd;\n",
       "  --sklearn-color-fitted-level-3: cornflowerblue;\n",
       "\n",
       "  /* Specific color for light theme */\n",
       "  --sklearn-color-text-on-default-background: var(--sg-text-color, var(--theme-code-foreground, var(--jp-content-font-color1, black)));\n",
       "  --sklearn-color-background: var(--sg-background-color, var(--theme-background, var(--jp-layout-color0, white)));\n",
       "  --sklearn-color-border-box: var(--sg-text-color, var(--theme-code-foreground, var(--jp-content-font-color1, black)));\n",
       "  --sklearn-color-icon: #696969;\n",
       "\n",
       "  @media (prefers-color-scheme: dark) {\n",
       "    /* Redefinition of color scheme for dark theme */\n",
       "    --sklearn-color-text-on-default-background: var(--sg-text-color, var(--theme-code-foreground, var(--jp-content-font-color1, white)));\n",
       "    --sklearn-color-background: var(--sg-background-color, var(--theme-background, var(--jp-layout-color0, #111)));\n",
       "    --sklearn-color-border-box: var(--sg-text-color, var(--theme-code-foreground, var(--jp-content-font-color1, white)));\n",
       "    --sklearn-color-icon: #878787;\n",
       "  }\n",
       "}\n",
       "\n",
       "#sk-container-id-1 {\n",
       "  color: var(--sklearn-color-text);\n",
       "}\n",
       "\n",
       "#sk-container-id-1 pre {\n",
       "  padding: 0;\n",
       "}\n",
       "\n",
       "#sk-container-id-1 input.sk-hidden--visually {\n",
       "  border: 0;\n",
       "  clip: rect(1px 1px 1px 1px);\n",
       "  clip: rect(1px, 1px, 1px, 1px);\n",
       "  height: 1px;\n",
       "  margin: -1px;\n",
       "  overflow: hidden;\n",
       "  padding: 0;\n",
       "  position: absolute;\n",
       "  width: 1px;\n",
       "}\n",
       "\n",
       "#sk-container-id-1 div.sk-dashed-wrapped {\n",
       "  border: 1px dashed var(--sklearn-color-line);\n",
       "  margin: 0 0.4em 0.5em 0.4em;\n",
       "  box-sizing: border-box;\n",
       "  padding-bottom: 0.4em;\n",
       "  background-color: var(--sklearn-color-background);\n",
       "}\n",
       "\n",
       "#sk-container-id-1 div.sk-container {\n",
       "  /* jupyter's `normalize.less` sets `[hidden] { display: none; }`\n",
       "     but bootstrap.min.css set `[hidden] { display: none !important; }`\n",
       "     so we also need the `!important` here to be able to override the\n",
       "     default hidden behavior on the sphinx rendered scikit-learn.org.\n",
       "     See: https://github.com/scikit-learn/scikit-learn/issues/21755 */\n",
       "  display: inline-block !important;\n",
       "  position: relative;\n",
       "}\n",
       "\n",
       "#sk-container-id-1 div.sk-text-repr-fallback {\n",
       "  display: none;\n",
       "}\n",
       "\n",
       "div.sk-parallel-item,\n",
       "div.sk-serial,\n",
       "div.sk-item {\n",
       "  /* draw centered vertical line to link estimators */\n",
       "  background-image: linear-gradient(var(--sklearn-color-text-on-default-background), var(--sklearn-color-text-on-default-background));\n",
       "  background-size: 2px 100%;\n",
       "  background-repeat: no-repeat;\n",
       "  background-position: center center;\n",
       "}\n",
       "\n",
       "/* Parallel-specific style estimator block */\n",
       "\n",
       "#sk-container-id-1 div.sk-parallel-item::after {\n",
       "  content: \"\";\n",
       "  width: 100%;\n",
       "  border-bottom: 2px solid var(--sklearn-color-text-on-default-background);\n",
       "  flex-grow: 1;\n",
       "}\n",
       "\n",
       "#sk-container-id-1 div.sk-parallel {\n",
       "  display: flex;\n",
       "  align-items: stretch;\n",
       "  justify-content: center;\n",
       "  background-color: var(--sklearn-color-background);\n",
       "  position: relative;\n",
       "}\n",
       "\n",
       "#sk-container-id-1 div.sk-parallel-item {\n",
       "  display: flex;\n",
       "  flex-direction: column;\n",
       "}\n",
       "\n",
       "#sk-container-id-1 div.sk-parallel-item:first-child::after {\n",
       "  align-self: flex-end;\n",
       "  width: 50%;\n",
       "}\n",
       "\n",
       "#sk-container-id-1 div.sk-parallel-item:last-child::after {\n",
       "  align-self: flex-start;\n",
       "  width: 50%;\n",
       "}\n",
       "\n",
       "#sk-container-id-1 div.sk-parallel-item:only-child::after {\n",
       "  width: 0;\n",
       "}\n",
       "\n",
       "/* Serial-specific style estimator block */\n",
       "\n",
       "#sk-container-id-1 div.sk-serial {\n",
       "  display: flex;\n",
       "  flex-direction: column;\n",
       "  align-items: center;\n",
       "  background-color: var(--sklearn-color-background);\n",
       "  padding-right: 1em;\n",
       "  padding-left: 1em;\n",
       "}\n",
       "\n",
       "\n",
       "/* Toggleable style: style used for estimator/Pipeline/ColumnTransformer box that is\n",
       "clickable and can be expanded/collapsed.\n",
       "- Pipeline and ColumnTransformer use this feature and define the default style\n",
       "- Estimators will overwrite some part of the style using the `sk-estimator` class\n",
       "*/\n",
       "\n",
       "/* Pipeline and ColumnTransformer style (default) */\n",
       "\n",
       "#sk-container-id-1 div.sk-toggleable {\n",
       "  /* Default theme specific background. It is overwritten whether we have a\n",
       "  specific estimator or a Pipeline/ColumnTransformer */\n",
       "  background-color: var(--sklearn-color-background);\n",
       "}\n",
       "\n",
       "/* Toggleable label */\n",
       "#sk-container-id-1 label.sk-toggleable__label {\n",
       "  cursor: pointer;\n",
       "  display: block;\n",
       "  width: 100%;\n",
       "  margin-bottom: 0;\n",
       "  padding: 0.5em;\n",
       "  box-sizing: border-box;\n",
       "  text-align: center;\n",
       "}\n",
       "\n",
       "#sk-container-id-1 label.sk-toggleable__label-arrow:before {\n",
       "  /* Arrow on the left of the label */\n",
       "  content: \"▸\";\n",
       "  float: left;\n",
       "  margin-right: 0.25em;\n",
       "  color: var(--sklearn-color-icon);\n",
       "}\n",
       "\n",
       "#sk-container-id-1 label.sk-toggleable__label-arrow:hover:before {\n",
       "  color: var(--sklearn-color-text);\n",
       "}\n",
       "\n",
       "/* Toggleable content - dropdown */\n",
       "\n",
       "#sk-container-id-1 div.sk-toggleable__content {\n",
       "  max-height: 0;\n",
       "  max-width: 0;\n",
       "  overflow: hidden;\n",
       "  text-align: left;\n",
       "  /* unfitted */\n",
       "  background-color: var(--sklearn-color-unfitted-level-0);\n",
       "}\n",
       "\n",
       "#sk-container-id-1 div.sk-toggleable__content.fitted {\n",
       "  /* fitted */\n",
       "  background-color: var(--sklearn-color-fitted-level-0);\n",
       "}\n",
       "\n",
       "#sk-container-id-1 div.sk-toggleable__content pre {\n",
       "  margin: 0.2em;\n",
       "  border-radius: 0.25em;\n",
       "  color: var(--sklearn-color-text);\n",
       "  /* unfitted */\n",
       "  background-color: var(--sklearn-color-unfitted-level-0);\n",
       "}\n",
       "\n",
       "#sk-container-id-1 div.sk-toggleable__content.fitted pre {\n",
       "  /* unfitted */\n",
       "  background-color: var(--sklearn-color-fitted-level-0);\n",
       "}\n",
       "\n",
       "#sk-container-id-1 input.sk-toggleable__control:checked~div.sk-toggleable__content {\n",
       "  /* Expand drop-down */\n",
       "  max-height: 200px;\n",
       "  max-width: 100%;\n",
       "  overflow: auto;\n",
       "}\n",
       "\n",
       "#sk-container-id-1 input.sk-toggleable__control:checked~label.sk-toggleable__label-arrow:before {\n",
       "  content: \"▾\";\n",
       "}\n",
       "\n",
       "/* Pipeline/ColumnTransformer-specific style */\n",
       "\n",
       "#sk-container-id-1 div.sk-label input.sk-toggleable__control:checked~label.sk-toggleable__label {\n",
       "  color: var(--sklearn-color-text);\n",
       "  background-color: var(--sklearn-color-unfitted-level-2);\n",
       "}\n",
       "\n",
       "#sk-container-id-1 div.sk-label.fitted input.sk-toggleable__control:checked~label.sk-toggleable__label {\n",
       "  background-color: var(--sklearn-color-fitted-level-2);\n",
       "}\n",
       "\n",
       "/* Estimator-specific style */\n",
       "\n",
       "/* Colorize estimator box */\n",
       "#sk-container-id-1 div.sk-estimator input.sk-toggleable__control:checked~label.sk-toggleable__label {\n",
       "  /* unfitted */\n",
       "  background-color: var(--sklearn-color-unfitted-level-2);\n",
       "}\n",
       "\n",
       "#sk-container-id-1 div.sk-estimator.fitted input.sk-toggleable__control:checked~label.sk-toggleable__label {\n",
       "  /* fitted */\n",
       "  background-color: var(--sklearn-color-fitted-level-2);\n",
       "}\n",
       "\n",
       "#sk-container-id-1 div.sk-label label.sk-toggleable__label,\n",
       "#sk-container-id-1 div.sk-label label {\n",
       "  /* The background is the default theme color */\n",
       "  color: var(--sklearn-color-text-on-default-background);\n",
       "}\n",
       "\n",
       "/* On hover, darken the color of the background */\n",
       "#sk-container-id-1 div.sk-label:hover label.sk-toggleable__label {\n",
       "  color: var(--sklearn-color-text);\n",
       "  background-color: var(--sklearn-color-unfitted-level-2);\n",
       "}\n",
       "\n",
       "/* Label box, darken color on hover, fitted */\n",
       "#sk-container-id-1 div.sk-label.fitted:hover label.sk-toggleable__label.fitted {\n",
       "  color: var(--sklearn-color-text);\n",
       "  background-color: var(--sklearn-color-fitted-level-2);\n",
       "}\n",
       "\n",
       "/* Estimator label */\n",
       "\n",
       "#sk-container-id-1 div.sk-label label {\n",
       "  font-family: monospace;\n",
       "  font-weight: bold;\n",
       "  display: inline-block;\n",
       "  line-height: 1.2em;\n",
       "}\n",
       "\n",
       "#sk-container-id-1 div.sk-label-container {\n",
       "  text-align: center;\n",
       "}\n",
       "\n",
       "/* Estimator-specific */\n",
       "#sk-container-id-1 div.sk-estimator {\n",
       "  font-family: monospace;\n",
       "  border: 1px dotted var(--sklearn-color-border-box);\n",
       "  border-radius: 0.25em;\n",
       "  box-sizing: border-box;\n",
       "  margin-bottom: 0.5em;\n",
       "  /* unfitted */\n",
       "  background-color: var(--sklearn-color-unfitted-level-0);\n",
       "}\n",
       "\n",
       "#sk-container-id-1 div.sk-estimator.fitted {\n",
       "  /* fitted */\n",
       "  background-color: var(--sklearn-color-fitted-level-0);\n",
       "}\n",
       "\n",
       "/* on hover */\n",
       "#sk-container-id-1 div.sk-estimator:hover {\n",
       "  /* unfitted */\n",
       "  background-color: var(--sklearn-color-unfitted-level-2);\n",
       "}\n",
       "\n",
       "#sk-container-id-1 div.sk-estimator.fitted:hover {\n",
       "  /* fitted */\n",
       "  background-color: var(--sklearn-color-fitted-level-2);\n",
       "}\n",
       "\n",
       "/* Specification for estimator info (e.g. \"i\" and \"?\") */\n",
       "\n",
       "/* Common style for \"i\" and \"?\" */\n",
       "\n",
       ".sk-estimator-doc-link,\n",
       "a:link.sk-estimator-doc-link,\n",
       "a:visited.sk-estimator-doc-link {\n",
       "  float: right;\n",
       "  font-size: smaller;\n",
       "  line-height: 1em;\n",
       "  font-family: monospace;\n",
       "  background-color: var(--sklearn-color-background);\n",
       "  border-radius: 1em;\n",
       "  height: 1em;\n",
       "  width: 1em;\n",
       "  text-decoration: none !important;\n",
       "  margin-left: 1ex;\n",
       "  /* unfitted */\n",
       "  border: var(--sklearn-color-unfitted-level-1) 1pt solid;\n",
       "  color: var(--sklearn-color-unfitted-level-1);\n",
       "}\n",
       "\n",
       ".sk-estimator-doc-link.fitted,\n",
       "a:link.sk-estimator-doc-link.fitted,\n",
       "a:visited.sk-estimator-doc-link.fitted {\n",
       "  /* fitted */\n",
       "  border: var(--sklearn-color-fitted-level-1) 1pt solid;\n",
       "  color: var(--sklearn-color-fitted-level-1);\n",
       "}\n",
       "\n",
       "/* On hover */\n",
       "div.sk-estimator:hover .sk-estimator-doc-link:hover,\n",
       ".sk-estimator-doc-link:hover,\n",
       "div.sk-label-container:hover .sk-estimator-doc-link:hover,\n",
       ".sk-estimator-doc-link:hover {\n",
       "  /* unfitted */\n",
       "  background-color: var(--sklearn-color-unfitted-level-3);\n",
       "  color: var(--sklearn-color-background);\n",
       "  text-decoration: none;\n",
       "}\n",
       "\n",
       "div.sk-estimator.fitted:hover .sk-estimator-doc-link.fitted:hover,\n",
       ".sk-estimator-doc-link.fitted:hover,\n",
       "div.sk-label-container:hover .sk-estimator-doc-link.fitted:hover,\n",
       ".sk-estimator-doc-link.fitted:hover {\n",
       "  /* fitted */\n",
       "  background-color: var(--sklearn-color-fitted-level-3);\n",
       "  color: var(--sklearn-color-background);\n",
       "  text-decoration: none;\n",
       "}\n",
       "\n",
       "/* Span, style for the box shown on hovering the info icon */\n",
       ".sk-estimator-doc-link span {\n",
       "  display: none;\n",
       "  z-index: 9999;\n",
       "  position: relative;\n",
       "  font-weight: normal;\n",
       "  right: .2ex;\n",
       "  padding: .5ex;\n",
       "  margin: .5ex;\n",
       "  width: min-content;\n",
       "  min-width: 20ex;\n",
       "  max-width: 50ex;\n",
       "  color: var(--sklearn-color-text);\n",
       "  box-shadow: 2pt 2pt 4pt #999;\n",
       "  /* unfitted */\n",
       "  background: var(--sklearn-color-unfitted-level-0);\n",
       "  border: .5pt solid var(--sklearn-color-unfitted-level-3);\n",
       "}\n",
       "\n",
       ".sk-estimator-doc-link.fitted span {\n",
       "  /* fitted */\n",
       "  background: var(--sklearn-color-fitted-level-0);\n",
       "  border: var(--sklearn-color-fitted-level-3);\n",
       "}\n",
       "\n",
       ".sk-estimator-doc-link:hover span {\n",
       "  display: block;\n",
       "}\n",
       "\n",
       "/* \"?\"-specific style due to the `<a>` HTML tag */\n",
       "\n",
       "#sk-container-id-1 a.estimator_doc_link {\n",
       "  float: right;\n",
       "  font-size: 1rem;\n",
       "  line-height: 1em;\n",
       "  font-family: monospace;\n",
       "  background-color: var(--sklearn-color-background);\n",
       "  border-radius: 1rem;\n",
       "  height: 1rem;\n",
       "  width: 1rem;\n",
       "  text-decoration: none;\n",
       "  /* unfitted */\n",
       "  color: var(--sklearn-color-unfitted-level-1);\n",
       "  border: var(--sklearn-color-unfitted-level-1) 1pt solid;\n",
       "}\n",
       "\n",
       "#sk-container-id-1 a.estimator_doc_link.fitted {\n",
       "  /* fitted */\n",
       "  border: var(--sklearn-color-fitted-level-1) 1pt solid;\n",
       "  color: var(--sklearn-color-fitted-level-1);\n",
       "}\n",
       "\n",
       "/* On hover */\n",
       "#sk-container-id-1 a.estimator_doc_link:hover {\n",
       "  /* unfitted */\n",
       "  background-color: var(--sklearn-color-unfitted-level-3);\n",
       "  color: var(--sklearn-color-background);\n",
       "  text-decoration: none;\n",
       "}\n",
       "\n",
       "#sk-container-id-1 a.estimator_doc_link.fitted:hover {\n",
       "  /* fitted */\n",
       "  background-color: var(--sklearn-color-fitted-level-3);\n",
       "}\n",
       "</style><div id=\"sk-container-id-1\" class=\"sk-top-container\"><div class=\"sk-text-repr-fallback\"><pre>LinearRegression()</pre><b>In a Jupyter environment, please rerun this cell to show the HTML representation or trust the notebook. <br />On GitHub, the HTML representation is unable to render, please try loading this page with nbviewer.org.</b></div><div class=\"sk-container\" hidden><div class=\"sk-item\"><div class=\"sk-estimator fitted sk-toggleable\"><input class=\"sk-toggleable__control sk-hidden--visually\" id=\"sk-estimator-id-1\" type=\"checkbox\" checked><label for=\"sk-estimator-id-1\" class=\"sk-toggleable__label fitted sk-toggleable__label-arrow fitted\">&nbsp;&nbsp;LinearRegression<a class=\"sk-estimator-doc-link fitted\" rel=\"noreferrer\" target=\"_blank\" href=\"https://scikit-learn.org/1.5/modules/generated/sklearn.linear_model.LinearRegression.html\">?<span>Documentation for LinearRegression</span></a><span class=\"sk-estimator-doc-link fitted\">i<span>Fitted</span></span></label><div class=\"sk-toggleable__content fitted\"><pre>LinearRegression()</pre></div> </div></div></div></div>"
      ],
      "text/plain": [
       "LinearRegression()"
      ]
     },
     "execution_count": 9,
     "metadata": {},
     "output_type": "execute_result"
    }
   ],
   "source": [
    "from sklearn.linear_model import LinearRegression\n",
    "\n",
    "model1 = LinearRegression()  # 线性模型 1\n",
    "model1.fit(x, y1)\n",
    "\n",
    "model2 = LinearRegression()  # 线性模型 2\n",
    "model2.fit(x, y2)"
   ]
  },
  {
   "cell_type": "code",
   "execution_count": 10,
   "id": "9cb9c7b3d47c8113",
   "metadata": {
    "ExecuteTime": {
     "end_time": "2024-07-18T09:25:22.328560900Z",
     "start_time": "2024-07-18T09:25:22.051476700Z"
    },
    "collapsed": false
   },
   "outputs": [
    {
     "data": {
      "text/plain": [
       "[<matplotlib.lines.Line2D at 0x155610349d0>]"
      ]
     },
     "execution_count": 10,
     "metadata": {},
     "output_type": "execute_result"
    },
    {
     "data": {
      "image/png": "[encoded data removed]",
      "text/plain": [
       "<Figure size 1200x400 with 2 Axes>"
      ]
     },
     "metadata": {},
     "output_type": "display_data"
    }
   ],
   "source": [
    "# 绘制拟合直线到原散点图中\n",
    "fig, axes = plt.subplots(1, 2, figsize=(12, 4))\n",
    "# 模型 1\n",
    "axes[0].scatter(x, y1)\n",
    "axes[0].plot([0, 90], [model1.intercept_, model1.coef_[0] * 90 + model1.intercept_], \"r\")\n",
    "# 模型 2\n",
    "axes[1].scatter(x, y2)\n",
    "axes[1].plot(\n",
    "    [0, 90], [model2.intercept_, model2.coef_[0] * 90 + model2.intercept_], \"r\"\n",
    ")"
   ]
  },
  {
   "cell_type": "code",
   "execution_count": 11,
   "id": "45c01d1e6aa86b16",
   "metadata": {
    "ExecuteTime": {
     "end_time": "2024-07-18T09:25:34.410682400Z",
     "start_time": "2024-07-18T09:25:34.348365400Z"
    },
    "collapsed": false
   },
   "outputs": [],
   "source": [
    "from sklearn.metrics import r2_score\n",
    "\n"
   ]
  },
  {
   "cell_type": "code",
   "execution_count": 12,
   "id": "a1b39b426e44b7",
   "metadata": {
    "ExecuteTime": {
     "end_time": "2024-07-18T09:25:50.670329Z",
     "start_time": "2024-07-18T09:25:50.589303200Z"
    },
    "collapsed": false
   },
   "outputs": [
    {
     "data": {
      "text/plain": [
       "(0.9993315719475073, 0.3740615194558857)"
      ]
     },
     "execution_count": 12,
     "metadata": {},
     "output_type": "execute_result"
    }
   ],
   "source": [
    "r2_score(y1, model1.predict(x)), r2_score(y2, model2.predict(x))\n"
   ]
  },
  {
   "cell_type": "code",
   "execution_count": 13,
   "id": "fc636787478b4d69",
   "metadata": {
    "ExecuteTime": {
     "end_time": "2024-07-18T09:26:08.645992100Z",
     "start_time": "2024-07-18T09:26:08.518193600Z"
    },
    "collapsed": false
   },
   "outputs": [
    {
     "data": {
      "text/plain": [
       "0.9993315719475073"
      ]
     },
     "execution_count": 13,
     "metadata": {},
     "output_type": "execute_result"
    }
   ],
   "source": [
    "# 使用公式计算方法验证 model1 计算结果\n",
    "rss = np.sum(pow((y1 - model1.predict(x)), 2))\n",
    "tss = np.sum(pow((y1 - np.mean(y1)), 2))\n",
    "1 - rss / tss"
   ]
  },
  {
   "cell_type": "code",
   "execution_count": 15,
   "id": "5bf49872d2b5b3c6",
   "metadata": {
    "ExecuteTime": {
     "end_time": "2024-07-19T02:43:25.908304300Z",
     "start_time": "2024-07-19T02:43:14.243432100Z"
    },
    "collapsed": false
   },
   "outputs": [],
   "source": [
    "import statsmodels.api as sm\n"
   ]
  },
  {
   "cell_type": "code",
   "execution_count": 18,
   "id": "f456fea59a1e1b25",
   "metadata": {
    "ExecuteTime": {
     "end_time": "2024-07-19T02:45:32.582906Z",
     "start_time": "2024-07-19T02:45:32.510882100Z"
    },
    "collapsed": false
   },
   "outputs": [
    {
     "data": {
      "text/plain": [
       "array([-0.00964898,  1.98752287])"
      ]
     },
     "execution_count": 18,
     "metadata": {},
     "output_type": "execute_result"
    }
   ],
   "source": [
    "x = sm.add_constant(x)  # 添加截距项系数 1\n",
    "model = sm.OLS(endog=y1, exog=x)  # 普通最小二乘法, endog 因变量, exog 自变量\n",
    "results = model.fit()\n",
    "results.params  # 输出拟合后系数"
   ]
  },
  {
   "cell_type": "code",
   "execution_count": 19,
   "id": "d844c6d3939f3286",
   "metadata": {
    "ExecuteTime": {
     "end_time": "2024-07-19T02:45:33.391850800Z",
     "start_time": "2024-07-19T02:45:33.343107500Z"
    },
    "collapsed": false
   },
   "outputs": [
    {
     "data": {
      "text/html": [
       "<table class=\"simpletable\">\n",
       "<tr>\n",
       "        <td>Model:</td>               <td>OLS</td>         <td>Adj. R-squared:</td>     <td>0.999</td>  \n",
       "</tr>\n",
       "<tr>\n",
       "  <td>Dependent Variable:</td>         <td>y</td>               <td>AIC:</td>          <td>37.9581</td> \n",
       "</tr>\n",
       "<tr>\n",
       "         <td>Date:</td>        <td>2024-07-19 10:45</td>        <td>BIC:</td>          <td>38.5633</td> \n",
       "</tr>\n",
       "<tr>\n",
       "   <td>No. Observations:</td>         <td>10</td>          <td>Log-Likelihood:</td>    <td>-16.979</td> \n",
       "</tr>\n",
       "<tr>\n",
       "       <td>Df Model:</td>              <td>1</td>           <td>F-statistic:</td>     <td>1.196e+04</td>\n",
       "</tr>\n",
       "<tr>\n",
       "     <td>Df Residuals:</td>            <td>8</td>        <td>Prob (F-statistic):</td> <td>5.46e-14</td> \n",
       "</tr>\n",
       "<tr>\n",
       "      <td>R-squared:</td>            <td>0.999</td>            <td>Scale:</td>         <td>2.1838</td>  \n",
       "</tr>\n",
       "</table>\n",
       "<table class=\"simpletable\">\n",
       "<tr>\n",
       "    <td></td>     <th>Coef.</th>  <th>Std.Err.</th>     <th>t</th>     <th>P>|t|</th> <th>[0.025</th>  <th>0.975]</th>\n",
       "</tr>\n",
       "<tr>\n",
       "  <th>const</th> <td>-0.0096</td>  <td>0.8535</td>   <td>-0.0113</td> <td>0.9913</td> <td>-1.9779</td> <td>1.9586</td>\n",
       "</tr>\n",
       "<tr>\n",
       "  <th>x1</th>    <td>1.9875</td>   <td>0.0182</td>  <td>109.3635</td> <td>0.0000</td> <td>1.9456</td>  <td>2.0294</td>\n",
       "</tr>\n",
       "</table>\n",
       "<table class=\"simpletable\">\n",
       "<tr>\n",
       "     <td>Omnibus:</td>     <td>0.359</td>  <td>Durbin-Watson:</td>   <td>1.546</td>\n",
       "</tr>\n",
       "<tr>\n",
       "  <td>Prob(Omnibus):</td>  <td>0.836</td> <td>Jarque-Bera (JB):</td> <td>0.456</td>\n",
       "</tr>\n",
       "<tr>\n",
       "       <td>Skew:</td>     <td>-0.287</td>     <td>Prob(JB):</td>     <td>0.796</td>\n",
       "</tr>\n",
       "<tr>\n",
       "     <td>Kurtosis:</td>    <td>2.125</td>  <td>Condition No.:</td>    <td>86</td>  \n",
       "</tr>\n",
       "</table><br/>\n",
       "Notes:<br/>\n",
       "[1] Standard Errors assume that the covariance matrix of the errors is correctly specified."
      ],
      "text/latex": [
       "\\begin{table}\n",
       "\\caption{Results: Ordinary least squares}\n",
       "\\label{}\n",
       "\\begin{center}\n",
       "\\begin{tabular}{llll}\n",
       "\\hline\n",
       "Model:              & OLS              & Adj. R-squared:     & 0.999      \\\\\n",
       "Dependent Variable: & y                & AIC:                & 37.9581    \\\\\n",
       "Date:               & 2024-07-19 10:45 & BIC:                & 38.5633    \\\\\n",
       "No. Observations:   & 10               & Log-Likelihood:     & -16.979    \\\\\n",
       "Df Model:           & 1                & F-statistic:        & 1.196e+04  \\\\\n",
       "Df Residuals:       & 8                & Prob (F-statistic): & 5.46e-14   \\\\\n",
       "R-squared:          & 0.999            & Scale:              & 2.1838     \\\\\n",
       "\\hline\n",
       "\\end{tabular}\n",
       "\\end{center}\n",
       "\n",
       "\\begin{center}\n",
       "\\begin{tabular}{lrrrrrr}\n",
       "\\hline\n",
       "      &   Coef. & Std.Err. &        t & P$> |$t$|$ &  [0.025 & 0.975]  \\\\\n",
       "\\hline\n",
       "const & -0.0096 &   0.8535 &  -0.0113 &      0.9913 & -1.9779 & 1.9586  \\\\\n",
       "x1    &  1.9875 &   0.0182 & 109.3635 &      0.0000 &  1.9456 & 2.0294  \\\\\n",
       "\\hline\n",
       "\\end{tabular}\n",
       "\\end{center}\n",
       "\n",
       "\\begin{center}\n",
       "\\begin{tabular}{llll}\n",
       "\\hline\n",
       "Omnibus:       & 0.359  & Durbin-Watson:    & 1.546  \\\\\n",
       "Prob(Omnibus): & 0.836  & Jarque-Bera (JB): & 0.456  \\\\\n",
       "Skew:          & -0.287 & Prob(JB):         & 0.796  \\\\\n",
       "Kurtosis:      & 2.125  & Condition No.:    & 86     \\\\\n",
       "\\hline\n",
       "\\end{tabular}\n",
       "\\end{center}\n",
       "\\end{table}\n",
       "\\bigskip\n",
       "Notes: \\newline \n",
       "[1] Standard Errors assume that the covariance matrix of the errors is correctly specified."
      ],
      "text/plain": [
       "<class 'statsmodels.iolib.summary2.Summary'>\n",
       "\"\"\"\n",
       "                 Results: Ordinary least squares\n",
       "==================================================================\n",
       "Model:              OLS              Adj. R-squared:     0.999    \n",
       "Dependent Variable: y                AIC:                37.9581  \n",
       "Date:               2024-07-19 10:45 BIC:                38.5633  \n",
       "No. Observations:   10               Log-Likelihood:     -16.979  \n",
       "Df Model:           1                F-statistic:        1.196e+04\n",
       "Df Residuals:       8                Prob (F-statistic): 5.46e-14 \n",
       "R-squared:          0.999            Scale:              2.1838   \n",
       "--------------------------------------------------------------------\n",
       "            Coef.    Std.Err.      t       P>|t|     [0.025   0.975]\n",
       "--------------------------------------------------------------------\n",
       "const      -0.0096     0.8535    -0.0113   0.9913   -1.9779   1.9586\n",
       "x1          1.9875     0.0182   109.3635   0.0000    1.9456   2.0294\n",
       "------------------------------------------------------------------\n",
       "Omnibus:              0.359         Durbin-Watson:           1.546\n",
       "Prob(Omnibus):        0.836         Jarque-Bera (JB):        0.456\n",
       "Skew:                 -0.287        Prob(JB):                0.796\n",
       "Kurtosis:             2.125         Condition No.:           86   \n",
       "==================================================================\n",
       "Notes:\n",
       "[1] Standard Errors assume that the covariance matrix of the\n",
       "errors is correctly specified.\n",
       "\"\"\""
      ]
     },
     "execution_count": 19,
     "metadata": {},
     "output_type": "execute_result"
    }
   ],
   "source": [
    "import warnings\n",
    "\n",
    "warnings.filterwarnings(\"ignore\")\n",
    "\n",
    "results.summary2(alpha=0.05)  # 输出模型摘要, 95% 置信度"
   ]
  },
  {
   "cell_type": "markdown",
   "source": [
    " 适合用于做多元回归建模时，就可以通过查看 P 值，把不显著的变量剔除。  不适合用于一元多项式"
   ],
   "metadata": {
    "collapsed": false
   },
   "id": "e7b80bd217d74558"
  },
  {
   "cell_type": "code",
   "execution_count": 6,
   "id": "4b5fbe061f096d7f",
   "metadata": {
    "ExecuteTime": {
     "end_time": "2024-07-19T02:55:37.536537800Z",
     "start_time": "2024-07-19T02:55:37.517518500Z"
    },
    "collapsed": false
   },
   "outputs": [],
   "source": [
    "\n",
    "\n",
    "# 加载示例数据\n",
    "x = [4, 8, 12, 25, 32, 43, 58, 63, 69, 79]\n",
    "y = [20, 33, 50, 56, 42, 31, 33, 46, 65, 7]"
   ]
  },
  {
   "cell_type": "code",
   "execution_count": 7,
   "id": "e126ac2078eff968",
   "metadata": {
    "ExecuteTime": {
     "end_time": "2024-07-19T02:55:38.024485500Z",
     "start_time": "2024-07-19T02:55:37.824711600Z"
    },
    "collapsed": false
   },
   "outputs": [
    {
     "data": {
      "text/plain": [
       "<matplotlib.collections.PathCollection at 0x1edd0085c90>"
      ]
     },
     "execution_count": 7,
     "metadata": {},
     "output_type": "execute_result"
    },
    {
     "data": {
      "image/png": "[encoded data removed]",
      "text/plain": [
       "<Figure size 640x480 with 1 Axes>"
      ]
     },
     "metadata": {},
     "output_type": "display_data"
    }
   ],
   "source": [
    "plt.scatter(x, y)"
   ]
  },
  {
   "cell_type": "code",
   "execution_count": 8,
   "id": "cde59df3f3daa4af",
   "metadata": {
    "ExecuteTime": {
     "end_time": "2024-07-19T03:04:28.810110500Z",
     "start_time": "2024-07-19T03:04:28.792923900Z"
    },
    "collapsed": false
   },
   "outputs": [],
   "source": [
    "from sklearn.preprocessing import PolynomialFeatures\n",
    "\n"
   ]
  },
  {
   "cell_type": "code",
   "execution_count": 9,
   "id": "a49318dbae8709fb",
   "metadata": {
    "ExecuteTime": {
     "end_time": "2024-07-19T03:04:29.113129100Z",
     "start_time": "2024-07-19T03:04:29.087930200Z"
    },
    "collapsed": false
   },
   "outputs": [],
   "source": [
    "x = np.array(x).reshape(-1, 1)  \n",
    "y = np.array(y).reshape(-1,1)\n",
    "poly_features = PolynomialFeatures(degree=2, include_bias=True)\n",
    "poly_x = poly_features.fit_transform(x.reshape(-1,1))\n"
   ]
  },
  {
   "cell_type": "code",
   "execution_count": 11,
   "id": "7199889827084af5",
   "metadata": {
    "ExecuteTime": {
     "end_time": "2024-07-19T03:04:29.522064800Z",
     "start_time": "2024-07-19T03:04:29.501263600Z"
    },
    "collapsed": false
   },
   "outputs": [],
   "source": [
    "import statsmodels.api as sm\n"
   ]
  },
  {
   "cell_type": "code",
   "execution_count": null,
   "id": "53f9c0ca3cce79c2",
   "metadata": {
    "ExecuteTime": {
     "end_time": "2024-07-19T03:04:30.301253200Z",
     "start_time": "2024-07-19T03:04:30.276928600Z"
    },
    "collapsed": false
   },
   "outputs": [],
   "source": []
  },
  {
   "cell_type": "code",
   "execution_count": 12,
   "id": "240250d6c3a52f47",
   "metadata": {
    "ExecuteTime": {
     "end_time": "2024-07-19T03:04:30.809082400Z",
     "start_time": "2024-07-19T03:04:30.785267900Z"
    },
    "collapsed": false
   },
   "outputs": [
    {
     "data": {
      "text/plain": [
       "array([ 2.43388350e+01,  1.24841082e+00, -1.59139413e-02])"
      ]
     },
     "execution_count": 12,
     "metadata": {},
     "output_type": "execute_result"
    }
   ],
   "source": [
    "model = sm.OLS(endog=y, exog=poly_x)  # 普通最小二乘法, endog 因变量, exog 自变量\n",
    "results = model.fit()\n",
    "results.params  # 输出拟合后系数"
   ]
  },
  {
   "cell_type": "code",
   "execution_count": 13,
   "id": "dc79d0c86d6c035a",
   "metadata": {
    "ExecuteTime": {
     "end_time": "2024-07-19T03:04:33.926136700Z",
     "start_time": "2024-07-19T03:04:33.858044300Z"
    },
    "collapsed": false
   },
   "outputs": [
    {
     "data": {
      "text/html": [
       "<table class=\"simpletable\">\n",
       "<tr>\n",
       "        <td>Model:</td>               <td>OLS</td>         <td>Adj. R-squared:</td>    <td>0.013</td> \n",
       "</tr>\n",
       "<tr>\n",
       "  <td>Dependent Variable:</td>         <td>y</td>               <td>AIC:</td>         <td>87.5655</td>\n",
       "</tr>\n",
       "<tr>\n",
       "         <td>Date:</td>        <td>2024-07-19 11:06</td>        <td>BIC:</td>         <td>88.4733</td>\n",
       "</tr>\n",
       "<tr>\n",
       "   <td>No. Observations:</td>         <td>10</td>          <td>Log-Likelihood:</td>   <td>-40.783</td>\n",
       "</tr>\n",
       "<tr>\n",
       "       <td>Df Model:</td>              <td>2</td>           <td>F-statistic:</td>      <td>1.061</td> \n",
       "</tr>\n",
       "<tr>\n",
       "     <td>Df Residuals:</td>            <td>7</td>        <td>Prob (F-statistic):</td>  <td>0.396</td> \n",
       "</tr>\n",
       "<tr>\n",
       "      <td>R-squared:</td>            <td>0.233</td>            <td>Scale:</td>        <td>291.59</td> \n",
       "</tr>\n",
       "</table>\n",
       "<table class=\"simpletable\">\n",
       "<tr>\n",
       "    <td></td>     <th>Coef.</th>  <th>Std.Err.</th>    <th>t</th>     <th>P>|t|</th> <th>[0.025</th>  <th>0.975]</th> \n",
       "</tr>\n",
       "<tr>\n",
       "  <th>const</th> <td>24.3388</td>  <td>14.3052</td> <td>1.7014</td>  <td>0.1327</td> <td>-9.4875</td> <td>58.1652</td>\n",
       "</tr>\n",
       "<tr>\n",
       "  <th>x1</th>    <td>1.2484</td>   <td>0.9039</td>  <td>1.3812</td>  <td>0.2097</td> <td>-0.8889</td> <td>3.3858</td> \n",
       "</tr>\n",
       "<tr>\n",
       "  <th>x2</th>    <td>-0.0159</td>  <td>0.0110</td>  <td>-1.4511</td> <td>0.1900</td> <td>-0.0418</td> <td>0.0100</td> \n",
       "</tr>\n",
       "</table>\n",
       "<table class=\"simpletable\">\n",
       "<tr>\n",
       "     <td>Omnibus:</td>    <td>1.486</td>  <td>Durbin-Watson:</td>   <td>1.847</td>\n",
       "</tr>\n",
       "<tr>\n",
       "  <td>Prob(Omnibus):</td> <td>0.476</td> <td>Jarque-Bera (JB):</td> <td>0.799</td>\n",
       "</tr>\n",
       "<tr>\n",
       "       <td>Skew:</td>     <td>0.660</td>     <td>Prob(JB):</td>     <td>0.671</td>\n",
       "</tr>\n",
       "<tr>\n",
       "     <td>Kurtosis:</td>   <td>2.579</td>  <td>Condition No.:</td>   <td>8116</td> \n",
       "</tr>\n",
       "</table><br/>\n",
       "Notes:<br/>\n",
       "[1] Standard Errors assume that the covariance matrix of the errors is correctly specified.<br/>\n",
       "[2] The condition number is large, 8.12e+03. This might indicate                that there are strong multicollinearity or other numerical                problems."
      ],
      "text/latex": [
       "\\begin{table}\n",
       "\\caption{Results: Ordinary least squares}\n",
       "\\label{}\n",
       "\\begin{center}\n",
       "\\begin{tabular}{llll}\n",
       "\\hline\n",
       "Model:              & OLS              & Adj. R-squared:     & 0.013    \\\\\n",
       "Dependent Variable: & y                & AIC:                & 87.5655  \\\\\n",
       "Date:               & 2024-07-19 11:06 & BIC:                & 88.4733  \\\\\n",
       "No. Observations:   & 10               & Log-Likelihood:     & -40.783  \\\\\n",
       "Df Model:           & 2                & F-statistic:        & 1.061    \\\\\n",
       "Df Residuals:       & 7                & Prob (F-statistic): & 0.396    \\\\\n",
       "R-squared:          & 0.233            & Scale:              & 291.59   \\\\\n",
       "\\hline\n",
       "\\end{tabular}\n",
       "\\end{center}\n",
       "\n",
       "\\begin{center}\n",
       "\\begin{tabular}{lrrrrrr}\n",
       "\\hline\n",
       "      &   Coef. & Std.Err. &       t & P$> |$t$|$ &  [0.025 &  0.975]  \\\\\n",
       "\\hline\n",
       "const & 24.3388 &  14.3052 &  1.7014 &      0.1327 & -9.4875 & 58.1652  \\\\\n",
       "x1    &  1.2484 &   0.9039 &  1.3812 &      0.2097 & -0.8889 &  3.3858  \\\\\n",
       "x2    & -0.0159 &   0.0110 & -1.4511 &      0.1900 & -0.0418 &  0.0100  \\\\\n",
       "\\hline\n",
       "\\end{tabular}\n",
       "\\end{center}\n",
       "\n",
       "\\begin{center}\n",
       "\\begin{tabular}{llll}\n",
       "\\hline\n",
       "Omnibus:       & 1.486 & Durbin-Watson:    & 1.847  \\\\\n",
       "Prob(Omnibus): & 0.476 & Jarque-Bera (JB): & 0.799  \\\\\n",
       "Skew:          & 0.660 & Prob(JB):         & 0.671  \\\\\n",
       "Kurtosis:      & 2.579 & Condition No.:    & 8116   \\\\\n",
       "\\hline\n",
       "\\end{tabular}\n",
       "\\end{center}\n",
       "\\end{table}\n",
       "\\bigskip\n",
       "Notes: \\newline \n",
       "[1] Standard Errors assume that the covariance matrix of the errors is correctly specified. \\newline \n",
       "[2] The condition number is large, 8.12e+03. This might indicate                that there are strong multicollinearity or other numerical                problems."
      ],
      "text/plain": [
       "<class 'statsmodels.iolib.summary2.Summary'>\n",
       "\"\"\"\n",
       "                Results: Ordinary least squares\n",
       "================================================================\n",
       "Model:              OLS              Adj. R-squared:     0.013  \n",
       "Dependent Variable: y                AIC:                87.5655\n",
       "Date:               2024-07-19 11:06 BIC:                88.4733\n",
       "No. Observations:   10               Log-Likelihood:     -40.783\n",
       "Df Model:           2                F-statistic:        1.061  \n",
       "Df Residuals:       7                Prob (F-statistic): 0.396  \n",
       "R-squared:          0.233            Scale:              291.59 \n",
       "------------------------------------------------------------------\n",
       "          Coef.    Std.Err.      t      P>|t|     [0.025    0.975]\n",
       "------------------------------------------------------------------\n",
       "const    24.3388    14.3052    1.7014   0.1327   -9.4875   58.1652\n",
       "x1        1.2484     0.9039    1.3812   0.2097   -0.8889    3.3858\n",
       "x2       -0.0159     0.0110   -1.4511   0.1900   -0.0418    0.0100\n",
       "----------------------------------------------------------------\n",
       "Omnibus:               1.486       Durbin-Watson:          1.847\n",
       "Prob(Omnibus):         0.476       Jarque-Bera (JB):       0.799\n",
       "Skew:                  0.660       Prob(JB):               0.671\n",
       "Kurtosis:              2.579       Condition No.:          8116 \n",
       "================================================================\n",
       "Notes:\n",
       "[1] Standard Errors assume that the covariance matrix of the\n",
       "errors is correctly specified.\n",
       "[2] The condition number is large, 8.12e+03. This might indicate\n",
       "that there are strong multicollinearity or other numerical\n",
       "problems.\n",
       "\"\"\""
      ]
     },
     "execution_count": 13,
     "metadata": {},
     "output_type": "execute_result"
    }
   ],
   "source": [
    "import warnings\n",
    "\n",
    "warnings.filterwarnings(\"ignore\")\n",
    "\n",
    "results.summary2(alpha=0.05)  # 输出模型摘要, 95% 置信度"
   ]
  },
  {
   "cell_type": "code",
   "execution_count": null,
   "id": "da1c49ea93ddb9c6",
   "metadata": {
    "collapsed": false
   },
   "outputs": [],
   "source": []
  }
 ],
 "metadata": {
  "kernelspec": {
   "display_name": "Python 3 (ipykernel)",
   "language": "python",
   "name": "python3"
  },
  "language_info": {
   "codemirror_mode": {
    "name": "ipython",
    "version": 3
   },
   "file_extension": ".py",
   "mimetype": "text/x-python",
   "name": "python",
   "nbconvert_exporter": "python",
   "pygments_lexer": "ipython3",
   "version": "3.10.4"
  }
 },
 "nbformat": 4,
 "nbformat_minor": 5
}
