{
 "cells": [
  {
   "cell_type": "code",
   "execution_count": 2,
   "id": "initial_id",
   "metadata": {
    "collapsed": true,
    "ExecuteTime": {
     "end_time": "2024-07-17T08:03:07.469451200Z",
     "start_time": "2024-07-17T08:03:04.455297700Z"
    }
   },
   "outputs": [],
   "source": [
    "import pandas as pd\n"
   ]
  },
  {
   "cell_type": "code",
   "execution_count": 3,
   "outputs": [
    {
     "data": {
      "text/plain": "   公交  写字楼  医院  商场  地铁  学校  小区名字  建造时间    房型  楼层  每平米价格   面积\n0  18   18  10   0   2  49  远洋山水  2006  2室1厅  26  60937   96\n1  17   42  10   0   4  37   椿树园  1998  3室1厅  14  88686  130\n2  18   36   9   0   1  24  永乐小区  1989  3室1厅  18  46621   74\n3  15   49  13   0   2  45  主语家园  2007  4室3厅   2  86147  462\n4   6    0   0   0   0   0  天伦锦城  2007  1室1厅  13  42500   64",
      "text/html": "<div>\n<style scoped>\n    .dataframe tbody tr th:only-of-type {\n        vertical-align: middle;\n    }\n\n    .dataframe tbody tr th {\n        vertical-align: top;\n    }\n\n    .dataframe thead th {\n        text-align: right;\n    }\n</style>\n<table border=\"1\" class=\"dataframe\">\n  <thead>\n    <tr style=\"text-align: right;\">\n      <th></th>\n      <th>公交</th>\n      <th>写字楼</th>\n      <th>医院</th>\n      <th>商场</th>\n      <th>地铁</th>\n      <th>学校</th>\n      <th>小区名字</th>\n      <th>建造时间</th>\n      <th>房型</th>\n      <th>楼层</th>\n      <th>每平米价格</th>\n      <th>面积</th>\n    </tr>\n  </thead>\n  <tbody>\n    <tr>\n      <th>0</th>\n      <td>18</td>\n      <td>18</td>\n      <td>10</td>\n      <td>0</td>\n      <td>2</td>\n      <td>49</td>\n      <td>远洋山水</td>\n      <td>2006</td>\n      <td>2室1厅</td>\n      <td>26</td>\n      <td>60937</td>\n      <td>96</td>\n    </tr>\n    <tr>\n      <th>1</th>\n      <td>17</td>\n      <td>42</td>\n      <td>10</td>\n      <td>0</td>\n      <td>4</td>\n      <td>37</td>\n      <td>椿树园</td>\n      <td>1998</td>\n      <td>3室1厅</td>\n      <td>14</td>\n      <td>88686</td>\n      <td>130</td>\n    </tr>\n    <tr>\n      <th>2</th>\n      <td>18</td>\n      <td>36</td>\n      <td>9</td>\n      <td>0</td>\n      <td>1</td>\n      <td>24</td>\n      <td>永乐小区</td>\n      <td>1989</td>\n      <td>3室1厅</td>\n      <td>18</td>\n      <td>46621</td>\n      <td>74</td>\n    </tr>\n    <tr>\n      <th>3</th>\n      <td>15</td>\n      <td>49</td>\n      <td>13</td>\n      <td>0</td>\n      <td>2</td>\n      <td>45</td>\n      <td>主语家园</td>\n      <td>2007</td>\n      <td>4室3厅</td>\n      <td>2</td>\n      <td>86147</td>\n      <td>462</td>\n    </tr>\n    <tr>\n      <th>4</th>\n      <td>6</td>\n      <td>0</td>\n      <td>0</td>\n      <td>0</td>\n      <td>0</td>\n      <td>0</td>\n      <td>天伦锦城</td>\n      <td>2007</td>\n      <td>1室1厅</td>\n      <td>13</td>\n      <td>42500</td>\n      <td>64</td>\n    </tr>\n  </tbody>\n</table>\n</div>"
     },
     "execution_count": 3,
     "metadata": {},
     "output_type": "execute_result"
    }
   ],
   "source": [
    "df = pd.read_csv('./data/challenge-1-beijing.csv')\n",
    "df.head()"
   ],
   "metadata": {
    "collapsed": false,
    "ExecuteTime": {
     "end_time": "2024-07-17T08:03:26.143840200Z",
     "start_time": "2024-07-17T08:03:26.096906300Z"
    }
   },
   "id": "96ff7a4674a3a194"
  },
  {
   "cell_type": "code",
   "execution_count": 4,
   "outputs": [
    {
     "data": {
      "text/plain": "(3000, 12)"
     },
     "execution_count": 4,
     "metadata": {},
     "output_type": "execute_result"
    }
   ],
   "source": [
    "df.shape"
   ],
   "metadata": {
    "collapsed": false,
    "ExecuteTime": {
     "end_time": "2024-07-17T08:03:53.730838Z",
     "start_time": "2024-07-17T08:03:53.700968200Z"
    }
   },
   "id": "6c5d62867aeaab9b"
  },
  {
   "cell_type": "code",
   "execution_count": 17,
   "outputs": [
    {
     "ename": "AttributeError",
     "evalue": "'DataFrame' object has no attribute 'dtype'",
     "output_type": "error",
     "traceback": [
      "\u001B[1;31m---------------------------------------------------------------------------\u001B[0m",
      "\u001B[1;31mAttributeError\u001B[0m                            Traceback (most recent call last)",
      "Cell \u001B[1;32mIn[17], line 3\u001B[0m\n\u001B[0;32m      1\u001B[0m features  \u001B[38;5;241m=\u001B[39m df[[\u001B[38;5;124m'\u001B[39m\u001B[38;5;124m公交\u001B[39m\u001B[38;5;124m'\u001B[39m,\u001B[38;5;124m'\u001B[39m\u001B[38;5;124m写字楼\u001B[39m\u001B[38;5;124m'\u001B[39m,\u001B[38;5;124m'\u001B[39m\u001B[38;5;124m医院\u001B[39m\u001B[38;5;124m'\u001B[39m,\u001B[38;5;124m'\u001B[39m\u001B[38;5;124m商场\u001B[39m\u001B[38;5;124m'\u001B[39m,\u001B[38;5;124m'\u001B[39m\u001B[38;5;124m地铁\u001B[39m\u001B[38;5;124m'\u001B[39m,\u001B[38;5;124m'\u001B[39m\u001B[38;5;124m学校\u001B[39m\u001B[38;5;124m'\u001B[39m,\u001B[38;5;124m'\u001B[39m\u001B[38;5;124m建造时间\u001B[39m\u001B[38;5;124m'\u001B[39m,\u001B[38;5;124m'\u001B[39m\u001B[38;5;124m楼层\u001B[39m\u001B[38;5;124m'\u001B[39m,\u001B[38;5;124m'\u001B[39m\u001B[38;5;124m面积\u001B[39m\u001B[38;5;124m'\u001B[39m]]\n\u001B[0;32m      2\u001B[0m target \u001B[38;5;241m=\u001B[39m df[\u001B[38;5;124m'\u001B[39m\u001B[38;5;124m每平米价格\u001B[39m\u001B[38;5;124m'\u001B[39m]\n\u001B[1;32m----> 3\u001B[0m features\u001B[38;5;241m.\u001B[39mshape, target\u001B[38;5;241m.\u001B[39mshape,\u001B[43mfeatures\u001B[49m\u001B[38;5;241;43m.\u001B[39;49m\u001B[43mdtype\u001B[49m\n",
      "File \u001B[1;32m~\\AppData\\Local\\Programs\\Python\\Python310\\lib\\site-packages\\pandas\\core\\generic.py:6299\u001B[0m, in \u001B[0;36mNDFrame.__getattr__\u001B[1;34m(self, name)\u001B[0m\n\u001B[0;32m   6292\u001B[0m \u001B[38;5;28;01mif\u001B[39;00m (\n\u001B[0;32m   6293\u001B[0m     name \u001B[38;5;129;01mnot\u001B[39;00m \u001B[38;5;129;01min\u001B[39;00m \u001B[38;5;28mself\u001B[39m\u001B[38;5;241m.\u001B[39m_internal_names_set\n\u001B[0;32m   6294\u001B[0m     \u001B[38;5;129;01mand\u001B[39;00m name \u001B[38;5;129;01mnot\u001B[39;00m \u001B[38;5;129;01min\u001B[39;00m \u001B[38;5;28mself\u001B[39m\u001B[38;5;241m.\u001B[39m_metadata\n\u001B[0;32m   6295\u001B[0m     \u001B[38;5;129;01mand\u001B[39;00m name \u001B[38;5;129;01mnot\u001B[39;00m \u001B[38;5;129;01min\u001B[39;00m \u001B[38;5;28mself\u001B[39m\u001B[38;5;241m.\u001B[39m_accessors\n\u001B[0;32m   6296\u001B[0m     \u001B[38;5;129;01mand\u001B[39;00m \u001B[38;5;28mself\u001B[39m\u001B[38;5;241m.\u001B[39m_info_axis\u001B[38;5;241m.\u001B[39m_can_hold_identifiers_and_holds_name(name)\n\u001B[0;32m   6297\u001B[0m ):\n\u001B[0;32m   6298\u001B[0m     \u001B[38;5;28;01mreturn\u001B[39;00m \u001B[38;5;28mself\u001B[39m[name]\n\u001B[1;32m-> 6299\u001B[0m \u001B[38;5;28;01mreturn\u001B[39;00m \u001B[38;5;28;43mobject\u001B[39;49m\u001B[38;5;241;43m.\u001B[39;49m\u001B[38;5;21;43m__getattribute__\u001B[39;49m\u001B[43m(\u001B[49m\u001B[38;5;28;43mself\u001B[39;49m\u001B[43m,\u001B[49m\u001B[43m \u001B[49m\u001B[43mname\u001B[49m\u001B[43m)\u001B[49m\n",
      "\u001B[1;31mAttributeError\u001B[0m: 'DataFrame' object has no attribute 'dtype'"
     ]
    }
   ],
   "source": [
    "features  = df[['公交','写字楼','医院','商场','地铁','学校','建造时间','楼层','面积']]\n",
    "target = df['每平米价格']\n",
    "features.shape, target.shape,"
   ],
   "metadata": {
    "collapsed": false,
    "ExecuteTime": {
     "end_time": "2024-07-17T08:25:05.792740900Z",
     "start_time": "2024-07-17T08:25:04.457745300Z"
    }
   },
   "id": "e3857f69fa14a13"
  },
  {
   "cell_type": "code",
   "execution_count": 9,
   "outputs": [
    {
     "data": {
      "text/plain": "   公交  写字楼  医院  商场  地铁  学校  建造时间  楼层   面积  每平米价格\n0  18   18  10   0   2  49  2006  26   96  60937\n1  17   42  10   0   4  37  1998  14  130  88686\n2  18   36   9   0   1  24  1989  18   74  46621\n3  15   49  13   0   2  45  2007   2  462  86147\n4   6    0   0   0   0   0  2007  13   64  42500",
      "text/html": "<div>\n<style scoped>\n    .dataframe tbody tr th:only-of-type {\n        vertical-align: middle;\n    }\n\n    .dataframe tbody tr th {\n        vertical-align: top;\n    }\n\n    .dataframe thead th {\n        text-align: right;\n    }\n</style>\n<table border=\"1\" class=\"dataframe\">\n  <thead>\n    <tr style=\"text-align: right;\">\n      <th></th>\n      <th>公交</th>\n      <th>写字楼</th>\n      <th>医院</th>\n      <th>商场</th>\n      <th>地铁</th>\n      <th>学校</th>\n      <th>建造时间</th>\n      <th>楼层</th>\n      <th>面积</th>\n      <th>每平米价格</th>\n    </tr>\n  </thead>\n  <tbody>\n    <tr>\n      <th>0</th>\n      <td>18</td>\n      <td>18</td>\n      <td>10</td>\n      <td>0</td>\n      <td>2</td>\n      <td>49</td>\n      <td>2006</td>\n      <td>26</td>\n      <td>96</td>\n      <td>60937</td>\n    </tr>\n    <tr>\n      <th>1</th>\n      <td>17</td>\n      <td>42</td>\n      <td>10</td>\n      <td>0</td>\n      <td>4</td>\n      <td>37</td>\n      <td>1998</td>\n      <td>14</td>\n      <td>130</td>\n      <td>88686</td>\n    </tr>\n    <tr>\n      <th>2</th>\n      <td>18</td>\n      <td>36</td>\n      <td>9</td>\n      <td>0</td>\n      <td>1</td>\n      <td>24</td>\n      <td>1989</td>\n      <td>18</td>\n      <td>74</td>\n      <td>46621</td>\n    </tr>\n    <tr>\n      <th>3</th>\n      <td>15</td>\n      <td>49</td>\n      <td>13</td>\n      <td>0</td>\n      <td>2</td>\n      <td>45</td>\n      <td>2007</td>\n      <td>2</td>\n      <td>462</td>\n      <td>86147</td>\n    </tr>\n    <tr>\n      <th>4</th>\n      <td>6</td>\n      <td>0</td>\n      <td>0</td>\n      <td>0</td>\n      <td>0</td>\n      <td>0</td>\n      <td>2007</td>\n      <td>13</td>\n      <td>64</td>\n      <td>42500</td>\n    </tr>\n  </tbody>\n</table>\n</div>"
     },
     "execution_count": 9,
     "metadata": {},
     "output_type": "execute_result"
    }
   ],
   "source": [
    "pd.concat([features, target],axis=1).head()  # axis 合并方向\n"
   ],
   "metadata": {
    "collapsed": false,
    "ExecuteTime": {
     "end_time": "2024-07-17T08:07:38.138134800Z",
     "start_time": "2024-07-17T08:07:38.114323600Z"
    }
   },
   "id": "d435ac16bb3524a"
  },
  {
   "cell_type": "code",
   "execution_count": 12,
   "outputs": [
    {
     "data": {
      "text/plain": "(2100, 2100, 900, 900)"
     },
     "execution_count": 12,
     "metadata": {},
     "output_type": "execute_result"
    }
   ],
   "source": [
    "split_num = int(len(df)*0.7) # 70% 分割数\n",
    "\n",
    "## 代码开始 ### (≈ 4 行代码)\n",
    "X_train = features[:split_num]\n",
    "y_train = target[:split_num]\n",
    "X_test = features[split_num:]\n",
    "y_test = target[split_num:]\n",
    "len(X_train), len(y_train), len(X_test), len(y_test)\n"
   ],
   "metadata": {
    "collapsed": false,
    "ExecuteTime": {
     "end_time": "2024-07-17T08:21:07.865938600Z",
     "start_time": "2024-07-17T08:21:07.857838700Z"
    }
   },
   "id": "d1810b1035113bfd"
  },
  {
   "cell_type": "code",
   "execution_count": 15,
   "outputs": [
    {
     "data": {
      "text/plain": "(39758.915194491085,\n array([ 6.59398431e+00,  2.99472651e+02,  3.71604272e+02,  1.23634436e-12,\n         1.10348032e+03,  4.89315116e+02, -9.52240497e-01,  1.49901912e+00,\n         4.11275632e+01]))"
     },
     "execution_count": 15,
     "metadata": {},
     "output_type": "execute_result"
    }
   ],
   "source": [
    "from sklearn.linear_model import LinearRegression\n",
    "model = LinearRegression()\n",
    "model.fit(X_train,y_train)\n",
    "model.intercept_,model.coef_"
   ],
   "metadata": {
    "collapsed": false,
    "ExecuteTime": {
     "end_time": "2024-07-17T08:22:37.376920500Z",
     "start_time": "2024-07-17T08:22:37.351714400Z"
    }
   },
   "id": "187919762cb96cda"
  },
  {
   "cell_type": "code",
   "execution_count": 16,
   "outputs": [],
   "source": [
    "import numpy as np\n",
    "\n"
   ],
   "metadata": {
    "collapsed": false,
    "ExecuteTime": {
     "end_time": "2024-07-17T08:24:22.957015400Z",
     "start_time": "2024-07-17T08:24:22.930111300Z"
    }
   },
   "id": "da2ee029da6b37b1"
  },
  {
   "cell_type": "code",
   "execution_count": 18,
   "outputs": [],
   "source": [
    "def mape(y_true, y_pred):\n",
    "\n",
    "    n = len(y_true)\n",
    "    mape = 100 * np.sum(np.abs((y_true-y_pred)/y_true)) / n\n",
    "    ### 代码结束 ###\n",
    "    \n",
    "    return mape"
   ],
   "metadata": {
    "collapsed": false,
    "ExecuteTime": {
     "end_time": "2024-07-17T08:25:25.269512700Z",
     "start_time": "2024-07-17T08:25:25.250167400Z"
    }
   },
   "id": "d79bfdec8a0d17fa"
  },
  {
   "cell_type": "code",
   "execution_count": 23,
   "outputs": [
    {
     "data": {
      "text/plain": "45.5061885467624"
     },
     "execution_count": 23,
     "metadata": {},
     "output_type": "execute_result"
    }
   ],
   "source": [
    "\n",
    "y_pred = model.predict(X_test)\n",
    "mape(y_test, y_pred)"
   ],
   "metadata": {
    "collapsed": false,
    "ExecuteTime": {
     "end_time": "2024-07-17T08:33:18.395837400Z",
     "start_time": "2024-07-17T08:33:18.368850100Z"
    }
   },
   "id": "95891e22a712b3bc"
  },
  {
   "cell_type": "code",
   "execution_count": 24,
   "outputs": [
    {
     "data": {
      "text/plain": "0.455061885467624"
     },
     "execution_count": 24,
     "metadata": {},
     "output_type": "execute_result"
    }
   ],
   "source": [
    "from sklearn.metrics import mean_absolute_percentage_error\n",
    "mean_absolute_percentage_error(y_test, y_pred) "
   ],
   "metadata": {
    "collapsed": false,
    "ExecuteTime": {
     "end_time": "2024-07-17T08:34:54.513202100Z",
     "start_time": "2024-07-17T08:34:54.492127200Z"
    }
   },
   "id": "1223dd7a469cdc5f"
  },
  {
   "cell_type": "code",
   "execution_count": null,
   "outputs": [],
   "source": [],
   "metadata": {
    "collapsed": false
   },
   "id": "c8b25f9c6ce73a2d"
  }
 ],
 "metadata": {
  "kernelspec": {
   "display_name": "Python 3",
   "language": "python",
   "name": "python3"
  },
  "language_info": {
   "codemirror_mode": {
    "name": "ipython",
    "version": 2
   },
   "file_extension": ".py",
   "mimetype": "text/x-python",
   "name": "python",
   "nbconvert_exporter": "python",
   "pygments_lexer": "ipython2",
   "version": "2.7.6"
  }
 },
 "nbformat": 4,
 "nbformat_minor": 5
}
